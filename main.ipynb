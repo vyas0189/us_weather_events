{
 "cells": [
  {
   "cell_type": "code",
   "execution_count": 1,
   "metadata": {},
   "outputs": [],
   "source": [
    "import pandas as pd\n",
    "import numpy as np\n",
    "import seaborn as sns\n",
    "from datetime import datetime\n",
    "import matplotlib.pyplot as plt"
   ]
  },
  {
   "cell_type": "code",
   "execution_count": null,
   "metadata": {},
   "outputs": [],
   "source": [
    "df = pd.read_csv('US_WeatherEvents_2016-2019.csv')"
   ]
  },
  {
   "cell_type": "code",
   "execution_count": null,
   "metadata": {},
   "outputs": [],
   "source": [
    "df.head()"
   ]
  },
  {
   "cell_type": "code",
   "execution_count": null,
   "metadata": {},
   "outputs": [],
   "source": [
    "df.describe()"
   ]
  },
  {
   "cell_type": "code",
   "execution_count": null,
   "metadata": {},
   "outputs": [],
   "source": [
    "df.info()"
   ]
  },
  {
   "cell_type": "code",
   "execution_count": null,
   "metadata": {},
   "outputs": [],
   "source": [
    "df.isnull().sum()"
   ]
  },
  {
   "cell_type": "code",
   "execution_count": null,
   "metadata": {},
   "outputs": [],
   "source": [
    "df.Severity.unique()"
   ]
  },
  {
   "cell_type": "code",
   "execution_count": null,
   "metadata": {},
   "outputs": [],
   "source": [
    "df.Type = df.Type.astype('category').cat.codes\n",
    "df.Severity = df.Severity.astype('category').cat.codes"
   ]
  },
  {
   "cell_type": "code",
   "execution_count": null,
   "metadata": {},
   "outputs": [],
   "source": [
    "df.info()"
   ]
  },
  {
   "cell_type": "code",
   "execution_count": null,
   "metadata": {},
   "outputs": [],
   "source": [
    "df.head()"
   ]
  },
  {
   "cell_type": "code",
   "execution_count": null,
   "metadata": {},
   "outputs": [],
   "source": [
    "df.drop(['ZipCode', 'City', 'LocationLat', 'LocationLng', 'EventId'], axis=1, inplace=True)\n",
    "\n",
    "df.head()"
   ]
  },
  {
   "cell_type": "code",
   "execution_count": null,
   "metadata": {},
   "outputs": [],
   "source": [
    "weather_categories = df['Type'].value_counts()\n",
    "weather_category_names = weather_categories.index"
   ]
  },
  {
   "cell_type": "code",
   "execution_count": null,
   "metadata": {},
   "outputs": [],
   "source": [
    "def plot_temporal_feature(df, time_feature, crime_category_names, xaxis_formatter=None, xtick_inc=None):\n",
    "    \n",
    "    # Set figure size\n",
    "    fig = plt.figure(figsize=(50, 100))\n",
    "    \n",
    "    for i in range(len(crime_category_names)):\n",
    "        p = plt.subplot(10, 4, i+1)\n",
    "        crime = crime_category_names[i]\n",
    "        cur_crime_data = df[df.Type == crime]\n",
    "        temporal_data = cur_crime_data[time_feature].value_counts().sort_index()\n",
    "        sns.lineplot(data=temporal_data)\n",
    "        if xtick_inc:\n",
    "            plt.xticks(np.arange(df[time_feature].unique().min(),df[time_feature].unique().max()+1, xtick_inc))\n",
    "        plt.tick_params(axis = 'both', which = 'major', labelsize = 13)\n",
    "        if xaxis_formatter:\n",
    "            p.get_xaxis().set_major_formatter(plt.FuncFormatter(lambda x, loc: xaxis_formatter(x)))\n",
    "    #     p.get_yaxis().set_major_formatter(plt.FuncFormatter(lambda x, loc: \"{:,}\".format(int(x))))\n",
    "        plt.ylabel(\"Frequency of Weather\", fontsize=25)\n",
    "        time_feature_str = str(time_feature).capitalize()\n",
    "        plt.xlabel(time_feature_str, fontsize=25)\n",
    "        plt.title(\"%s (%s)\" % (crime, 'per '+ time_feature_str), fontsize=30)\n",
    "    \n",
    "    # fig.savefig('visualizations/%s.png' % time_feature_str, bbox_inches='tight')\n",
    "\n",
    "plot_temporal_feature(df, 'Year', weather_category_names, xtick_inc=3)"
   ]
  },
  {
   "cell_type": "code",
   "execution_count": null,
   "metadata": {},
   "outputs": [
    {
     "name": "stdout",
     "output_type": "stream",
     "text": [
      "<class 'pandas.core.frame.DataFrame'>\n",
      "RangeIndex: 5059833 entries, 0 to 5059832\n",
      "Data columns (total 13 columns):\n",
      " #   Column          Dtype  \n",
      "---  ------          -----  \n",
      " 0   EventId         object \n",
      " 1   Type            object \n",
      " 2   Severity        object \n",
      " 3   StartTime(UTC)  object \n",
      " 4   EndTime(UTC)    object \n",
      " 5   TimeZone        object \n",
      " 6   AirportCode     object \n",
      " 7   LocationLat     float64\n",
      " 8   LocationLng     float64\n",
      " 9   City            object \n",
      " 10  County          object \n",
      " 11  State           object \n",
      " 12  ZipCode         float64\n",
      "dtypes: float64(3), object(10)\n",
      "memory usage: 501.8+ MB\n",
      "['Snow' 'Fog' 'Cold' 'Storm' 'Rain' 'Precipitation' 'Hail']\n",
      "['Light' 'Severe' 'Moderate' 'Heavy' 'UNK' 'Other']\n",
      "2071\n",
      "['US/Mountain' 'US/Central' 'US/Eastern' 'US/Pacific']\n",
      "1100\n",
      "48\n"
     ]
    }
   ],
   "source": [
    "sns.set_style('darkgrid')\n",
    "\n",
    "df = pd.read_csv('US_WeatherEvents_2016-2019.csv')\n",
    "\n",
    "df.head()\n",
    "\n",
    "df.describe()\n",
    "\n",
    "df.info()\n",
    "\n",
    "df.isnull().sum()\n",
    "\n",
    "print(df.Type.unique())\n",
    "print(df.Severity.unique())\n",
    "print(len(df.AirportCode.unique()))\n",
    "print(df.TimeZone.unique())\n",
    "print(len(df.County.unique()))\n",
    "print(len(df.State.unique()))\n",
    "# print(df.EventId.unique())\n",
    "\n",
    "## Plot these for better visualization\n",
    "weather_type_df = df['Type'].value_counts(ascending=True)\n",
    "\n",
    "## Some formatting to make it look nicer\n",
    "fig=plt.figure(figsize=(18, 16))\n",
    "plt.title(\"Frequency of Weathers\")\n",
    "plt.xlabel(\"Frequency of Weather\")\n",
    "plt.ylabel(\"Type of Weather\")\n",
    "ax = weather_type_df.plot(kind='barh')\n",
    "ax.get_xaxis().set_major_formatter(plt.FuncFormatter(lambda x, loc: \"{:,}\".format(int(x))))\n",
    "\n",
    "df[\"StartTime(UTC)\"] = pd.to_datetime(df[\"StartTime(UTC)\"], format=\"%Y-%m-%d %H:%M:%S\")\n",
    "df[\"Hour\"] = df[\"StartTime(UTC)\"].map(lambda x: x.hour)\n",
    "df[\"Month\"] = df[\"StartTime(UTC)\"].map(lambda x: x.month)\n",
    "df[\"Year\"] = df[\"StartTime(UTC)\"].map(lambda x: x.year)\n",
    "\n",
    "df.Type = df.Type.astype('category').cat.codes\n",
    "df.Severity = df.Severity.astype('category').cat.codes\n",
    "\n",
    "df.info()\n",
    "\n",
    "df.drop(['ZipCode', 'City', 'LocationLat', 'LocationLng', 'EventId'], axis=1, inplace=True)\n",
    "\n",
    "df.head()\n",
    "\n",
    "weather_categories = df['Type'].value_counts()\n",
    "weather_category_names = weather_categories.index\n",
    "\n",
    "def plot_temporal_feature(df, time_feature, crime_category_names, xaxis_formatter=None, xtick_inc=None):\n",
    "    \n",
    "    # Set figure size\n",
    "    fig = plt.figure(figsize=(50, 100))\n",
    "    \n",
    "    for i in range(len(crime_category_names)):\n",
    "        p = plt.subplot(10, 4, i+1)\n",
    "        crime = crime_category_names[i]\n",
    "        cur_crime_data = df[df.Type == crime]\n",
    "        temporal_data = cur_crime_data[time_feature].value_counts().sort_index()\n",
    "        sns.lineplot(data=temporal_data)\n",
    "        if xtick_inc:\n",
    "            plt.xticks(np.arange(df[time_feature].unique().min(),df[time_feature].unique().max()+1, xtick_inc))\n",
    "        plt.tick_params(axis = 'both', which = 'major', labelsize = 13)\n",
    "        if xaxis_formatter:\n",
    "            p.get_xaxis().set_major_formatter(plt.FuncFormatter(lambda x, loc: xaxis_formatter(x)))\n",
    "    #     p.get_yaxis().set_major_formatter(plt.FuncFormatter(lambda x, loc: \"{:,}\".format(int(x))))\n",
    "        plt.ylabel(\"Frequency of Weather\", fontsize=25)\n",
    "        time_feature_str = str(time_feature).capitalize()\n",
    "        plt.xlabel(time_feature_str, fontsize=25)\n",
    "        plt.title(\"%s (%s)\" % (crime, 'per '+ time_feature_str), fontsize=30)\n",
    "    \n",
    "    # fig.savefig('visualizations/%s.png' % time_feature_str, bbox_inches='tight')\n",
    "\n",
    "plot_temporal_feature(df, 'Year', weather_category_names, xtick_inc=3)"
   ]
  },
  {
   "cell_type": "code",
   "execution_count": null,
   "metadata": {},
   "outputs": [],
   "source": []
  }
 ],
 "metadata": {
  "kernelspec": {
   "display_name": "Python 3",
   "language": "python",
   "name": "python3"
  },
  "language_info": {
   "codemirror_mode": {
    "name": "ipython",
    "version": 3
   },
   "file_extension": ".py",
   "mimetype": "text/x-python",
   "name": "python",
   "nbconvert_exporter": "python",
   "pygments_lexer": "ipython3",
   "version": "3.7.4"
  }
 },
 "nbformat": 4,
 "nbformat_minor": 2
}
