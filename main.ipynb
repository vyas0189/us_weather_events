{
 "cells": [
  {
   "cell_type": "code",
   "execution_count": 1,
   "metadata": {
    "colab": {},
    "colab_type": "code",
    "id": "kN_I0YGEupvp"
   },
   "outputs": [],
   "source": [
    "import pandas as pd\n",
    "import numpy as np\n",
    "import seaborn as sns\n",
    "from datetime import datetime\n",
    "import matplotlib.pyplot as plt\n",
    "from datetime import datetime"
   ]
  },
  {
   "cell_type": "code",
   "execution_count": 2,
   "metadata": {
    "colab": {},
    "colab_type": "code",
    "id": "4G1vpQ5_cKXv"
   },
   "outputs": [],
   "source": [
    "sns.set_style('darkgrid')"
   ]
  },
  {
   "cell_type": "code",
   "execution_count": 3,
   "metadata": {
    "colab": {},
    "colab_type": "code",
    "id": "-DO_Z-bRvLDT"
   },
   "outputs": [],
   "source": [
    "df = pd.read_csv('US_WeatherEvents_2016-2019.csv')"
   ]
  },
  {
   "cell_type": "code",
   "execution_count": 4,
   "metadata": {
    "colab": {
     "base_uri": "https://localhost:8080/",
     "height": 190
    },
    "colab_type": "code",
    "id": "B157WDDYvLrp",
    "outputId": "eb51ae0e-4e8f-4670-c2b0-9ce4c91a866b"
   },
   "outputs": [
    {
     "data": {
      "text/html": [
       "<div>\n",
       "<style scoped>\n",
       "    .dataframe tbody tr th:only-of-type {\n",
       "        vertical-align: middle;\n",
       "    }\n",
       "\n",
       "    .dataframe tbody tr th {\n",
       "        vertical-align: top;\n",
       "    }\n",
       "\n",
       "    .dataframe thead th {\n",
       "        text-align: right;\n",
       "    }\n",
       "</style>\n",
       "<table border=\"1\" class=\"dataframe\">\n",
       "  <thead>\n",
       "    <tr style=\"text-align: right;\">\n",
       "      <th></th>\n",
       "      <th>EventId</th>\n",
       "      <th>Type</th>\n",
       "      <th>Severity</th>\n",
       "      <th>StartTime(UTC)</th>\n",
       "      <th>EndTime(UTC)</th>\n",
       "      <th>TimeZone</th>\n",
       "      <th>AirportCode</th>\n",
       "      <th>LocationLat</th>\n",
       "      <th>LocationLng</th>\n",
       "      <th>City</th>\n",
       "      <th>County</th>\n",
       "      <th>State</th>\n",
       "      <th>ZipCode</th>\n",
       "    </tr>\n",
       "  </thead>\n",
       "  <tbody>\n",
       "    <tr>\n",
       "      <th>0</th>\n",
       "      <td>W-1</td>\n",
       "      <td>Snow</td>\n",
       "      <td>Light</td>\n",
       "      <td>2016-01-06 23:14:00</td>\n",
       "      <td>2016-01-07 00:34:00</td>\n",
       "      <td>US/Mountain</td>\n",
       "      <td>K04V</td>\n",
       "      <td>38.0972</td>\n",
       "      <td>-106.1689</td>\n",
       "      <td>Saguache</td>\n",
       "      <td>Saguache</td>\n",
       "      <td>CO</td>\n",
       "      <td>81149.0</td>\n",
       "    </tr>\n",
       "    <tr>\n",
       "      <th>1</th>\n",
       "      <td>W-2</td>\n",
       "      <td>Snow</td>\n",
       "      <td>Light</td>\n",
       "      <td>2016-01-07 04:14:00</td>\n",
       "      <td>2016-01-07 04:54:00</td>\n",
       "      <td>US/Mountain</td>\n",
       "      <td>K04V</td>\n",
       "      <td>38.0972</td>\n",
       "      <td>-106.1689</td>\n",
       "      <td>Saguache</td>\n",
       "      <td>Saguache</td>\n",
       "      <td>CO</td>\n",
       "      <td>81149.0</td>\n",
       "    </tr>\n",
       "    <tr>\n",
       "      <th>2</th>\n",
       "      <td>W-3</td>\n",
       "      <td>Snow</td>\n",
       "      <td>Light</td>\n",
       "      <td>2016-01-07 05:54:00</td>\n",
       "      <td>2016-01-07 15:34:00</td>\n",
       "      <td>US/Mountain</td>\n",
       "      <td>K04V</td>\n",
       "      <td>38.0972</td>\n",
       "      <td>-106.1689</td>\n",
       "      <td>Saguache</td>\n",
       "      <td>Saguache</td>\n",
       "      <td>CO</td>\n",
       "      <td>81149.0</td>\n",
       "    </tr>\n",
       "    <tr>\n",
       "      <th>3</th>\n",
       "      <td>W-4</td>\n",
       "      <td>Snow</td>\n",
       "      <td>Light</td>\n",
       "      <td>2016-01-08 05:34:00</td>\n",
       "      <td>2016-01-08 05:54:00</td>\n",
       "      <td>US/Mountain</td>\n",
       "      <td>K04V</td>\n",
       "      <td>38.0972</td>\n",
       "      <td>-106.1689</td>\n",
       "      <td>Saguache</td>\n",
       "      <td>Saguache</td>\n",
       "      <td>CO</td>\n",
       "      <td>81149.0</td>\n",
       "    </tr>\n",
       "    <tr>\n",
       "      <th>4</th>\n",
       "      <td>W-5</td>\n",
       "      <td>Snow</td>\n",
       "      <td>Light</td>\n",
       "      <td>2016-01-08 13:54:00</td>\n",
       "      <td>2016-01-08 15:54:00</td>\n",
       "      <td>US/Mountain</td>\n",
       "      <td>K04V</td>\n",
       "      <td>38.0972</td>\n",
       "      <td>-106.1689</td>\n",
       "      <td>Saguache</td>\n",
       "      <td>Saguache</td>\n",
       "      <td>CO</td>\n",
       "      <td>81149.0</td>\n",
       "    </tr>\n",
       "  </tbody>\n",
       "</table>\n",
       "</div>"
      ],
      "text/plain": [
       "  EventId  Type Severity       StartTime(UTC)         EndTime(UTC)  \\\n",
       "0     W-1  Snow    Light  2016-01-06 23:14:00  2016-01-07 00:34:00   \n",
       "1     W-2  Snow    Light  2016-01-07 04:14:00  2016-01-07 04:54:00   \n",
       "2     W-3  Snow    Light  2016-01-07 05:54:00  2016-01-07 15:34:00   \n",
       "3     W-4  Snow    Light  2016-01-08 05:34:00  2016-01-08 05:54:00   \n",
       "4     W-5  Snow    Light  2016-01-08 13:54:00  2016-01-08 15:54:00   \n",
       "\n",
       "      TimeZone AirportCode  LocationLat  LocationLng      City    County  \\\n",
       "0  US/Mountain        K04V      38.0972    -106.1689  Saguache  Saguache   \n",
       "1  US/Mountain        K04V      38.0972    -106.1689  Saguache  Saguache   \n",
       "2  US/Mountain        K04V      38.0972    -106.1689  Saguache  Saguache   \n",
       "3  US/Mountain        K04V      38.0972    -106.1689  Saguache  Saguache   \n",
       "4  US/Mountain        K04V      38.0972    -106.1689  Saguache  Saguache   \n",
       "\n",
       "  State  ZipCode  \n",
       "0    CO  81149.0  \n",
       "1    CO  81149.0  \n",
       "2    CO  81149.0  \n",
       "3    CO  81149.0  \n",
       "4    CO  81149.0  "
      ]
     },
     "execution_count": 4,
     "metadata": {},
     "output_type": "execute_result"
    }
   ],
   "source": [
    "df.head()"
   ]
  },
  {
   "cell_type": "code",
   "execution_count": 5,
   "metadata": {
    "colab": {
     "base_uri": "https://localhost:8080/",
     "height": 277
    },
    "colab_type": "code",
    "id": "ljubl8OMvNsz",
    "outputId": "9e9c4333-85dc-47c1-a44f-8c66e991a076"
   },
   "outputs": [
    {
     "data": {
      "text/html": [
       "<div>\n",
       "<style scoped>\n",
       "    .dataframe tbody tr th:only-of-type {\n",
       "        vertical-align: middle;\n",
       "    }\n",
       "\n",
       "    .dataframe tbody tr th {\n",
       "        vertical-align: top;\n",
       "    }\n",
       "\n",
       "    .dataframe thead th {\n",
       "        text-align: right;\n",
       "    }\n",
       "</style>\n",
       "<table border=\"1\" class=\"dataframe\">\n",
       "  <thead>\n",
       "    <tr style=\"text-align: right;\">\n",
       "      <th></th>\n",
       "      <th>LocationLat</th>\n",
       "      <th>LocationLng</th>\n",
       "      <th>ZipCode</th>\n",
       "    </tr>\n",
       "  </thead>\n",
       "  <tbody>\n",
       "    <tr>\n",
       "      <th>count</th>\n",
       "      <td>5.059833e+06</td>\n",
       "      <td>5.059833e+06</td>\n",
       "      <td>5.021148e+06</td>\n",
       "    </tr>\n",
       "    <tr>\n",
       "      <th>mean</th>\n",
       "      <td>3.882645e+01</td>\n",
       "      <td>-9.203908e+01</td>\n",
       "      <td>5.277158e+04</td>\n",
       "    </tr>\n",
       "    <tr>\n",
       "      <th>std</th>\n",
       "      <td>5.489153e+00</td>\n",
       "      <td>1.337799e+01</td>\n",
       "      <td>2.555838e+04</td>\n",
       "    </tr>\n",
       "    <tr>\n",
       "      <th>min</th>\n",
       "      <td>2.455710e+01</td>\n",
       "      <td>-1.245550e+02</td>\n",
       "      <td>1.022000e+03</td>\n",
       "    </tr>\n",
       "    <tr>\n",
       "      <th>25%</th>\n",
       "      <td>3.460690e+01</td>\n",
       "      <td>-9.800580e+01</td>\n",
       "      <td>3.172100e+04</td>\n",
       "    </tr>\n",
       "    <tr>\n",
       "      <th>50%</th>\n",
       "      <td>3.945200e+01</td>\n",
       "      <td>-9.011010e+01</td>\n",
       "      <td>5.450100e+04</td>\n",
       "    </tr>\n",
       "    <tr>\n",
       "      <th>75%</th>\n",
       "      <td>4.311110e+01</td>\n",
       "      <td>-8.215590e+01</td>\n",
       "      <td>7.364700e+04</td>\n",
       "    </tr>\n",
       "    <tr>\n",
       "      <th>max</th>\n",
       "      <td>4.894020e+01</td>\n",
       "      <td>-6.779280e+01</td>\n",
       "      <td>9.936200e+04</td>\n",
       "    </tr>\n",
       "  </tbody>\n",
       "</table>\n",
       "</div>"
      ],
      "text/plain": [
       "        LocationLat   LocationLng       ZipCode\n",
       "count  5.059833e+06  5.059833e+06  5.021148e+06\n",
       "mean   3.882645e+01 -9.203908e+01  5.277158e+04\n",
       "std    5.489153e+00  1.337799e+01  2.555838e+04\n",
       "min    2.455710e+01 -1.245550e+02  1.022000e+03\n",
       "25%    3.460690e+01 -9.800580e+01  3.172100e+04\n",
       "50%    3.945200e+01 -9.011010e+01  5.450100e+04\n",
       "75%    4.311110e+01 -8.215590e+01  7.364700e+04\n",
       "max    4.894020e+01 -6.779280e+01  9.936200e+04"
      ]
     },
     "execution_count": 5,
     "metadata": {},
     "output_type": "execute_result"
    }
   ],
   "source": [
    "df.describe()"
   ]
  },
  {
   "cell_type": "code",
   "execution_count": 6,
   "metadata": {
    "colab": {
     "base_uri": "https://localhost:8080/",
     "height": 319
    },
    "colab_type": "code",
    "id": "TNlJkDBfvh-R",
    "outputId": "d7ff7e15-b32d-497b-9ae0-64c74f13e970"
   },
   "outputs": [
    {
     "name": "stdout",
     "output_type": "stream",
     "text": [
      "<class 'pandas.core.frame.DataFrame'>\n",
      "RangeIndex: 5059833 entries, 0 to 5059832\n",
      "Data columns (total 13 columns):\n",
      " #   Column          Dtype  \n",
      "---  ------          -----  \n",
      " 0   EventId         object \n",
      " 1   Type            object \n",
      " 2   Severity        object \n",
      " 3   StartTime(UTC)  object \n",
      " 4   EndTime(UTC)    object \n",
      " 5   TimeZone        object \n",
      " 6   AirportCode     object \n",
      " 7   LocationLat     float64\n",
      " 8   LocationLng     float64\n",
      " 9   City            object \n",
      " 10  County          object \n",
      " 11  State           object \n",
      " 12  ZipCode         float64\n",
      "dtypes: float64(3), object(10)\n",
      "memory usage: 501.8+ MB\n"
     ]
    }
   ],
   "source": [
    "df.info()"
   ]
  },
  {
   "cell_type": "code",
   "execution_count": 7,
   "metadata": {
    "colab": {
     "base_uri": "https://localhost:8080/",
     "height": 252
    },
    "colab_type": "code",
    "id": "cqdaU4Yhvkc-",
    "outputId": "9778c4e0-d7b0-4440-dc78-198791b721a0"
   },
   "outputs": [
    {
     "data": {
      "text/plain": [
       "EventId               0\n",
       "Type                  0\n",
       "Severity              0\n",
       "StartTime(UTC)        0\n",
       "EndTime(UTC)          0\n",
       "TimeZone              0\n",
       "AirportCode           0\n",
       "LocationLat           0\n",
       "LocationLng           0\n",
       "City               9087\n",
       "County                0\n",
       "State                 0\n",
       "ZipCode           38685\n",
       "dtype: int64"
      ]
     },
     "execution_count": 7,
     "metadata": {},
     "output_type": "execute_result"
    }
   ],
   "source": [
    "df.isnull().sum()"
   ]
  },
  {
   "cell_type": "code",
   "execution_count": 8,
   "metadata": {
    "colab": {
     "base_uri": "https://localhost:8080/",
     "height": 117
    },
    "colab_type": "code",
    "id": "ZT_HK3wovopP",
    "outputId": "47004a6e-ed45-4523-e9ee-420307c4c5a5"
   },
   "outputs": [
    {
     "name": "stdout",
     "output_type": "stream",
     "text": [
      "['Snow' 'Fog' 'Cold' 'Storm' 'Rain' 'Precipitation' 'Hail']\n",
      "['Light' 'Severe' 'Moderate' 'Heavy' 'UNK' 'Other']\n",
      "2071\n",
      "['US/Mountain' 'US/Central' 'US/Eastern' 'US/Pacific']\n",
      "1100\n",
      "48\n"
     ]
    }
   ],
   "source": [
    "print(df.Type.unique())\n",
    "print(df.Severity.unique())\n",
    "print(len(df.AirportCode.unique()))\n",
    "print(df.TimeZone.unique())\n",
    "print(len(df.County.unique()))\n",
    "print(len(df.State.unique()))\n",
    "\n",
    "# print(df.EventId.unique())"
   ]
  },
  {
   "cell_type": "code",
   "execution_count": 9,
   "metadata": {
    "colab": {
     "base_uri": "https://localhost:8080/",
     "height": 948
    },
    "colab_type": "code",
    "id": "B1f10cnWcyQ7",
    "outputId": "3e250d79-1bea-48c2-8e8b-e15d144402d4"
   },
   "outputs": [
    {
     "data": {
      "image/png": "[encoded data removed]",
      "text/plain": [
       "<Figure size 1296x1152 with 1 Axes>"
      ]
     },
     "metadata": {},
     "output_type": "display_data"
    }
   ],
   "source": [
    "weather_type_df = df['Type'].value_counts(ascending=True)\n",
    "fig=plt.figure(figsize=(18, 16))\n",
    "plt.title(\"Frequency of Weathers\")\n",
    "plt.xlabel(\"Frequency of Weather\")\n",
    "plt.ylabel(\"Type of Weather\")\n",
    "ax = weather_type_df.plot(kind='barh')\n",
    "ax.get_xaxis().set_major_formatter(plt.FuncFormatter(lambda x, loc: \"{:,}\".format(int(x))))"
   ]
  },
  {
   "cell_type": "code",
   "execution_count": null,
   "metadata": {
    "colab": {},
    "colab_type": "code",
    "id": "zxFJ8NeAeRl7"
   },
   "outputs": [],
   "source": [
    "df[\"StartTime(UTC)\"] = pd.to_datetime(df[\"StartTime(UTC)\"], format=\"%Y-%m-%d %H:%M:%S\")\n",
    "df[\"Hour\"] = df[\"StartTime(UTC)\"].map(lambda x: x.hour)\n",
    "df[\"Month\"] = df[\"StartTime(UTC)\"].map(lambda x: x.month)\n",
    "df[\"Year\"] = df[\"StartTime(UTC)\"].map(lambda x: x.year)"
   ]
  },
  {
   "cell_type": "code",
   "execution_count": null,
   "metadata": {
    "colab": {},
    "colab_type": "code",
    "id": "vUvMQA_T96dT"
   },
   "outputs": [],
   "source": [
    "weather_categories = df['Type'].value_counts()\n",
    "weather_category_names = weather_categories.index"
   ]
  },
  {
   "cell_type": "code",
   "execution_count": null,
   "metadata": {
    "colab": {},
    "colab_type": "code",
    "id": "wB_JUDQee7Vh"
   },
   "outputs": [],
   "source": [
    "def plot_temporal_feature(df, time_feature, weather_category_names, feature, xaxis_formatter=None, xtick_inc=None):\n",
    "\n",
    "    fig = plt.figure(figsize=(50, 100))\n",
    "    \n",
    "    for i in range(len(weather_category_names)):\n",
    "        p = plt.subplot(10, 4, i+1)\n",
    "        weather = weather_category_names[i]\n",
    "        cur_weather_data = df[df[feature] == weather]\n",
    "        temporal_data = cur_weather_data[time_feature].value_counts().sort_index()\n",
    "        sns.lineplot(data=temporal_data)\n",
    "        if xtick_inc:\n",
    "            plt.xticks(np.arange(df[time_feature].unique().min(),df[time_feature].unique().max()+1, xtick_inc))\n",
    "        plt.tick_params(axis = 'both', which = 'major', labelsize = 13)\n",
    "        if xaxis_formatter:\n",
    "            p.get_xaxis().set_major_formatter(plt.FuncFormatter(lambda x, loc: xaxis_formatter(x)))\n",
    "        plt.ylabel(\"Frequency of Weather\", fontsize=25)\n",
    "        time_feature_str = str(time_feature).capitalize()\n",
    "        plt.xlabel(time_feature_str, fontsize=25)\n",
    "        plt.title(\"%s (%s)\" % (weather, 'per '+ time_feature_str), fontsize=30)\n",
    "    "
   ]
  },
  {
   "cell_type": "code",
   "execution_count": null,
   "metadata": {
    "colab": {
     "base_uri": "https://localhost:8080/",
     "height": 1000
    },
    "colab_type": "code",
    "id": "aYeLiMyaahQp",
    "outputId": "c4186b71-1cf1-4287-8fc9-f366b93e0638"
   },
   "outputs": [],
   "source": [
    "plot_temporal_feature(df, 'Year', weather_category_names, 'Type', xtick_inc=1,)"
   ]
  },
  {
   "cell_type": "code",
   "execution_count": null,
   "metadata": {
    "colab": {},
    "colab_type": "code",
    "id": "2DKOLqNiCIZf"
   },
   "outputs": [],
   "source": [
    "weather_serverity = df['Severity'].value_counts()\n",
    "weather_serverity_names = weather_serverity.index"
   ]
  },
  {
   "cell_type": "code",
   "execution_count": null,
   "metadata": {
    "colab": {
     "base_uri": "https://localhost:8080/",
     "height": 1000
    },
    "colab_type": "code",
    "id": "ZoYsOLo2CRou",
    "outputId": "dd77d4e4-080f-4644-9325-67064f44adbe"
   },
   "outputs": [],
   "source": [
    "plot_temporal_feature(df, 'Year', weather_serverity_names, 'Severity', xtick_inc=1)"
   ]
  },
  {
   "cell_type": "code",
   "execution_count": null,
   "metadata": {
    "colab": {
     "base_uri": "https://localhost:8080/",
     "height": 1000
    },
    "colab_type": "code",
    "id": "BPXjFLY_FdyD",
    "outputId": "41d6c65c-bcfc-43c4-8770-be7638ba90c3"
   },
   "outputs": [],
   "source": [
    "import calendar\n",
    "\n",
    "def convert_month(num):\n",
    "    return calendar.month_abbr[num]\n",
    "\n",
    "plot_temporal_feature(df, 'Month', weather_category_names, 'Type', convert_month, xtick_inc=1)"
   ]
  },
  {
   "cell_type": "code",
   "execution_count": null,
   "metadata": {
    "colab": {},
    "colab_type": "code",
    "id": "f_pDNBBlv5HV"
   },
   "outputs": [],
   "source": [
    "df.Type = df.Type.astype('category').cat.codes\n",
    "df.Severity = df.Severity.astype('category').cat.codes"
   ]
  },
  {
   "cell_type": "code",
   "execution_count": null,
   "metadata": {
    "colab": {
     "base_uri": "https://localhost:8080/",
     "height": 369
    },
    "colab_type": "code",
    "id": "CFJBKFzCwyE4",
    "outputId": "ccced229-1712-4ac9-d9b8-1172f0b76edf"
   },
   "outputs": [],
   "source": [
    "df.info()"
   ]
  },
  {
   "cell_type": "code",
   "execution_count": null,
   "metadata": {
    "colab": {},
    "colab_type": "code",
    "id": "yhFndEc3w25D"
   },
   "outputs": [],
   "source": [
    "df.drop(['ZipCode', 'City', 'LocationLat', 'LocationLng', 'EventId'], axis=1, inplace=True)"
   ]
  },
  {
   "cell_type": "code",
   "execution_count": null,
   "metadata": {
    "colab": {
     "base_uri": "https://localhost:8080/",
     "height": 190
    },
    "colab_type": "code",
    "id": "9nIUVW3he3Ru",
    "outputId": "6494387f-ecbf-4911-f4cf-46bde2446421"
   },
   "outputs": [],
   "source": [
    "df.head()"
   ]
  },
  {
   "cell_type": "code",
   "execution_count": null,
   "metadata": {
    "colab": {
     "base_uri": "https://localhost:8080/",
     "height": 277
    },
    "colab_type": "code",
    "id": "dpoX3E-AgQJ7",
    "outputId": "b91f0dbe-b863-446f-ff75-bf03f468e062"
   },
   "outputs": [],
   "source": [
    "df.describe()"
   ]
  },
  {
   "cell_type": "code",
   "execution_count": null,
   "metadata": {
    "colab": {},
    "colab_type": "code",
    "id": "dL--cJvGa0cu"
   },
   "outputs": [],
   "source": []
  },
  {
   "cell_type": "code",
   "execution_count": null,
   "metadata": {
    "colab": {},
    "colab_type": "code",
    "id": "u2omI1ZHm0-5"
   },
   "outputs": [],
   "source": []
  }
 ],
 "metadata": {
  "colab": {
   "collapsed_sections": [],
   "name": "main.ipynb",
   "provenance": [],
   "toc_visible": true
  },
  "kernelspec": {
   "display_name": "Python 3",
   "language": "python",
   "name": "python3"
  },
  "language_info": {
   "codemirror_mode": {
    "name": "ipython",
    "version": 3
   },
   "file_extension": ".py",
   "mimetype": "text/x-python",
   "name": "python",
   "nbconvert_exporter": "python",
   "pygments_lexer": "ipython3",
   "version": "3.7.4"
  }
 },
 "nbformat": 4,
 "nbformat_minor": 1
}
